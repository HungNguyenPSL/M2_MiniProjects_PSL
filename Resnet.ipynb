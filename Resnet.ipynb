{
  "nbformat": 4,
  "nbformat_minor": 0,
  "metadata": {
    "colab": {
      "provenance": [],
      "gpuType": "T4"
    },
    "kernelspec": {
      "name": "python3",
      "display_name": "Python 3"
    },
    "language_info": {
      "name": "python"
    },
    "accelerator": "GPU"
  },
  "cells": [
    {
      "cell_type": "code",
      "execution_count": 1,
      "metadata": {
        "id": "Jw3TwocNo2pg"
      },
      "outputs": [],
      "source": [
        " import tensorflow as tf\n",
        " from tensorflow.keras import layers\n",
        " from tensorflow.keras import datasets"
      ]
    },
    {
      "cell_type": "code",
      "source": [
        " input = layers.Input(shape=(32, 32, 3))\n",
        " x = layers.Conv2D(64, 1, activation='relu', padding='same')(input)\n",
        " for i in range (5):\n",
        "  ident = x\n",
        "  x = layers.Conv2D(64, 3, activation='relu', padding='same')(x)\n",
        "  x = layers.Conv2D(64, 3, activation='relu', padding='same')(x)\n",
        "  x = layers.add([ident,x])\n",
        " flatten = layers.Flatten()(x)\n",
        " dense = layers.Dense(10, activation=\"softmax\")(flatten)\n",
        " model = tf.keras.models.Model(inputs=input, outputs=dense)"
      ],
      "metadata": {
        "id": "DLqrlX6eo8P1"
      },
      "execution_count": 2,
      "outputs": []
    },
    {
      "cell_type": "code",
      "source": [
        " (x_train, y_train), (x_test, y_test) = datasets.cifar10.load_data()\n",
        " x_train = x_train.astype('float32') / 255.\n",
        " x_test = x_test.astype('float32') / 255.\n",
        " y_train = tf.keras.utils.to_categorical(y_train, 10)\n",
        " y_test = tf.keras.utils.to_categorical(y_test, 10)"
      ],
      "metadata": {
        "colab": {
          "base_uri": "https://localhost:8080/"
        },
        "id": "2PjG9a8KpO8J",
        "outputId": "345fa34b-7d6c-4149-aab6-86d2ca5cbe76"
      },
      "execution_count": 3,
      "outputs": [
        {
          "output_type": "stream",
          "name": "stdout",
          "text": [
            "Downloading data from https://www.cs.toronto.edu/~kriz/cifar-10-python.tar.gz\n",
            "\u001b[1m170498071/170498071\u001b[0m \u001b[32m━━━━━━━━━━━━━━━━━━━━\u001b[0m\u001b[37m\u001b[0m \u001b[1m13s\u001b[0m 0us/step\n"
          ]
        }
      ]
    },
    {
      "cell_type": "code",
      "source": [
        " model.compile(optimizer=tf.keras.optimizers.RMSprop(1e-3),\n",
        "              loss='categorical_crossentropy',\n",
        "              metrics=['acc'])\n",
        " model.fit(x_train, y_train,\n",
        "          batch_size=64,\n",
        "          epochs=15,\n",
        "          validation_split=0.2)"
      ],
      "metadata": {
        "colab": {
          "base_uri": "https://localhost:8080/"
        },
        "id": "0OdgMZ1QpUSA",
        "outputId": "fbb879b2-6275-408a-a631-4734fd25ea5d"
      },
      "execution_count": 4,
      "outputs": [
        {
          "output_type": "stream",
          "name": "stdout",
          "text": [
            "Epoch 1/15\n",
            "\u001b[1m625/625\u001b[0m \u001b[32m━━━━━━━━━━━━━━━━━━━━\u001b[0m\u001b[37m\u001b[0m \u001b[1m31s\u001b[0m 40ms/step - acc: 0.3190 - loss: 2.7689 - val_acc: 0.4964 - val_loss: 1.4240\n",
            "Epoch 2/15\n",
            "\u001b[1m625/625\u001b[0m \u001b[32m━━━━━━━━━━━━━━━━━━━━\u001b[0m\u001b[37m\u001b[0m \u001b[1m36s\u001b[0m 38ms/step - acc: 0.5644 - loss: 1.2269 - val_acc: 0.6166 - val_loss: 1.1017\n",
            "Epoch 3/15\n",
            "\u001b[1m625/625\u001b[0m \u001b[32m━━━━━━━━━━━━━━━━━━━━\u001b[0m\u001b[37m\u001b[0m \u001b[1m24s\u001b[0m 38ms/step - acc: 0.6624 - loss: 0.9615 - val_acc: 0.6630 - val_loss: 0.9658\n",
            "Epoch 4/15\n",
            "\u001b[1m625/625\u001b[0m \u001b[32m━━━━━━━━━━━━━━━━━━━━\u001b[0m\u001b[37m\u001b[0m \u001b[1m42s\u001b[0m 40ms/step - acc: 0.7415 - loss: 0.7494 - val_acc: 0.6500 - val_loss: 1.0091\n",
            "Epoch 5/15\n",
            "\u001b[1m625/625\u001b[0m \u001b[32m━━━━━━━━━━━━━━━━━━━━\u001b[0m\u001b[37m\u001b[0m \u001b[1m25s\u001b[0m 41ms/step - acc: 0.7938 - loss: 0.5976 - val_acc: 0.6808 - val_loss: 0.9812\n",
            "Epoch 6/15\n",
            "\u001b[1m625/625\u001b[0m \u001b[32m━━━━━━━━━━━━━━━━━━━━\u001b[0m\u001b[37m\u001b[0m \u001b[1m40s\u001b[0m 39ms/step - acc: 0.8499 - loss: 0.4476 - val_acc: 0.6756 - val_loss: 1.0606\n",
            "Epoch 7/15\n",
            "\u001b[1m625/625\u001b[0m \u001b[32m━━━━━━━━━━━━━━━━━━━━\u001b[0m\u001b[37m\u001b[0m \u001b[1m41s\u001b[0m 39ms/step - acc: 0.8939 - loss: 0.3168 - val_acc: 0.6842 - val_loss: 1.2012\n",
            "Epoch 8/15\n",
            "\u001b[1m625/625\u001b[0m \u001b[32m━━━━━━━━━━━━━━━━━━━━\u001b[0m\u001b[37m\u001b[0m \u001b[1m25s\u001b[0m 40ms/step - acc: 0.9279 - loss: 0.2195 - val_acc: 0.6787 - val_loss: 1.3588\n",
            "Epoch 9/15\n",
            "\u001b[1m625/625\u001b[0m \u001b[32m━━━━━━━━━━━━━━━━━━━━\u001b[0m\u001b[37m\u001b[0m \u001b[1m41s\u001b[0m 40ms/step - acc: 0.9481 - loss: 0.1562 - val_acc: 0.6730 - val_loss: 1.5962\n",
            "Epoch 10/15\n",
            "\u001b[1m625/625\u001b[0m \u001b[32m━━━━━━━━━━━━━━━━━━━━\u001b[0m\u001b[37m\u001b[0m \u001b[1m25s\u001b[0m 40ms/step - acc: 0.9626 - loss: 0.1137 - val_acc: 0.6610 - val_loss: 1.8768\n",
            "Epoch 11/15\n",
            "\u001b[1m625/625\u001b[0m \u001b[32m━━━━━━━━━━━━━━━━━━━━\u001b[0m\u001b[37m\u001b[0m \u001b[1m42s\u001b[0m 41ms/step - acc: 0.9698 - loss: 0.0905 - val_acc: 0.6526 - val_loss: 2.1520\n",
            "Epoch 12/15\n",
            "\u001b[1m625/625\u001b[0m \u001b[32m━━━━━━━━━━━━━━━━━━━━\u001b[0m\u001b[37m\u001b[0m \u001b[1m40s\u001b[0m 40ms/step - acc: 0.9746 - loss: 0.0722 - val_acc: 0.6531 - val_loss: 2.4124\n",
            "Epoch 13/15\n",
            "\u001b[1m625/625\u001b[0m \u001b[32m━━━━━━━━━━━━━━━━━━━━\u001b[0m\u001b[37m\u001b[0m \u001b[1m26s\u001b[0m 41ms/step - acc: 0.9758 - loss: 0.0685 - val_acc: 0.6475 - val_loss: 2.7254\n",
            "Epoch 14/15\n",
            "\u001b[1m625/625\u001b[0m \u001b[32m━━━━━━━━━━━━━━━━━━━━\u001b[0m\u001b[37m\u001b[0m \u001b[1m40s\u001b[0m 39ms/step - acc: 0.9788 - loss: 0.0623 - val_acc: 0.6653 - val_loss: 2.6485\n",
            "Epoch 15/15\n",
            "\u001b[1m625/625\u001b[0m \u001b[32m━━━━━━━━━━━━━━━━━━━━\u001b[0m\u001b[37m\u001b[0m \u001b[1m41s\u001b[0m 40ms/step - acc: 0.9805 - loss: 0.0598 - val_acc: 0.6529 - val_loss: 2.7691\n"
          ]
        },
        {
          "output_type": "execute_result",
          "data": {
            "text/plain": [
              "<keras.src.callbacks.history.History at 0x7f860bcc29b0>"
            ]
          },
          "metadata": {},
          "execution_count": 4
        }
      ]
    }
  ]
}